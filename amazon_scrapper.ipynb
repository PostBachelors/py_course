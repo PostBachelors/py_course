{
 "cells": [
  {
   "cell_type": "code",
   "execution_count": 1,
   "metadata": {},
   "outputs": [
    {
     "data": {
      "text/html": [
       "<style>.container { width:100% !important; }</style>"
      ],
      "text/plain": [
       "<IPython.core.display.HTML object>"
      ]
     },
     "metadata": {},
     "output_type": "display_data"
    }
   ],
   "source": [
    "from IPython.core.display import display, HTML\n",
    "display(HTML(\"<style>.container { width:100% !important; }</style>\"))"
   ]
  },
  {
   "cell_type": "code",
   "execution_count": 50,
   "metadata": {},
   "outputs": [],
   "source": [
    "# Import libraries required to perform web scrapping\n",
    "import urllib # To send request to any server\n",
    "from bs4 import BeautifulSoup # Parse data into html format\n",
    "import time"
   ]
  },
  {
   "cell_type": "code",
   "execution_count": 3,
   "metadata": {},
   "outputs": [],
   "source": [
    "# Url which we have scrape\n",
    "url = \"https://www.amazon.in/s?i=computers&bbn=1375424031&rh=n%3A976392031%2Cn%3A976393031%2Cn%3A1375424031%2Cp_85%3A10440599031%2Cp_72%3A1318477031&pf_rd_i=1375424031&pf_rd_m=A1K21FY43GMZF8&pf_rd_p=93ab47fc-f487-498b-aff1-4e97b87b9dbc&pf_rd_r=YSPD54J0A4ZPKGSKAG6N&pf_rd_s=merchandised-search-9&pf_rd_t=101&ref=s9_acss_bw_cg_INTELEXC_2b1_w\""
   ]
  },
  {
   "cell_type": "code",
   "execution_count": 51,
   "metadata": {},
   "outputs": [],
   "source": [
    "# Define function which fetch data from website and parse into html\n",
    "def make_html(theurl):\n",
    "    # request = urllib.request.Request(url, headers={'User-Agent': 'Mozilla/5.0'})\n",
    "    time.sleep(10)\n",
    "    page = urllib.request.urlopen(theurl)\n",
    "    source_code = BeautifulSoup(page, 'html.parser')\n",
    "    \n",
    "    return source_code"
   ]
  },
  {
   "cell_type": "code",
   "execution_count": 9,
   "metadata": {},
   "outputs": [
    {
     "name": "stdout",
     "output_type": "stream",
     "text": [
      "Amazon.in: 3 Stars & Up - Prime Eligible / Laptops: Computers & Accessories\n"
     ]
    }
   ],
   "source": [
    "# Let's now fetch data from amazon and store into html variable\n",
    "html = make_html(url)\n",
    "print(html.title.text)"
   ]
  },
  {
   "cell_type": "code",
   "execution_count": 29,
   "metadata": {},
   "outputs": [],
   "source": [
    "def all_product_page(html):\n",
    "    sections = html.find('span', {'class': 's-latency-cf-section'})\n",
    "    products = sections.findAll('div', {'class': 'sg-col-inner'})\n",
    "    \n",
    "    list_products = []\n",
    "    \n",
    "    for prod in products:\n",
    "        name = prod.find('h2', {'class': 'a-size-mini'}).text.strip()\n",
    "        original_price = prod.find('span', {'class': 'a-price'}).text.strip()\n",
    "        discounted_price = prod.find('span', {'class': 'a-price-whole'}).text.strip()\n",
    "        product_url = \"https://amazon.in/%s\" % prod.find('h2', {'class': 'a-size-mini'}).find('a').get('href')\n",
    "        product_img_url = prod.find('img', {'class': 's-image'}).get('src')\n",
    "\n",
    "        list_products.append([name, original_price, discounted_price, product_url, product_img_url])\n",
    "            \n",
    "    return list_products"
   ]
  },
  {
   "cell_type": "code",
   "execution_count": 43,
   "metadata": {},
   "outputs": [],
   "source": [
    "def next_page_url(html):\n",
    "    pagination = html.find('ul', {'class': 'a-pagination'})\n",
    "    \n",
    "    return \"https://amazon.in%s\" % pagination.findAll('li')[-1].find('a').get('href')"
   ]
  },
  {
   "cell_type": "code",
   "execution_count": 45,
   "metadata": {},
   "outputs": [
    {
     "data": {
      "text/plain": [
       "'https://amazon.in/Laptops-3-Stars-Up-Prime-Eligible/s?rh=n%3A1375424031%2Cp_72%3A1318477031%2Cp_85%3A10440599031&page=2'"
      ]
     },
     "execution_count": 45,
     "metadata": {},
     "output_type": "execute_result"
    }
   ],
   "source": [
    "next_page_url(html)"
   ]
  },
  {
   "cell_type": "code",
   "execution_count": 54,
   "metadata": {},
   "outputs": [
    {
     "name": "stdout",
     "output_type": "stream",
     "text": [
      "https://amazon.in/Laptops-3-Stars-Up-Prime-Eligible/s?rh=n%3A1375424031%2Cp_72%3A1318477031%2Cp_85%3A10440599031&page=2\n",
      "https://amazon.in/Laptops-3-Stars-Up-Prime-Eligible/s?rh=n%3A1375424031%2Cp_72%3A1318477031%2Cp_85%3A10440599031&page=3\n",
      "https://amazon.in/Laptops-3-Stars-Up-Prime-Eligible/s?rh=n%3A1375424031%2Cp_72%3A1318477031%2Cp_85%3A10440599031&page=4\n",
      "https://amazon.in/Laptops-3-Stars-Up-Prime-Eligible/s?rh=n%3A1375424031%2Cp_72%3A1318477031%2Cp_85%3A10440599031&page=5\n",
      "https://amazon.in/Laptops-3-Stars-Up-Prime-Eligible/s?rh=n%3A1375424031%2Cp_72%3A1318477031%2Cp_85%3A10440599031&page=6\n",
      "https://amazon.in/Laptops-3-Stars-Up-Prime-Eligible/s?rh=n%3A1375424031%2Cp_72%3A1318477031%2Cp_85%3A10440599031&page=7\n"
     ]
    },
    {
     "ename": "AttributeError",
     "evalue": "'NoneType' object has no attribute 'text'",
     "output_type": "error",
     "traceback": [
      "\u001b[0;31m---------------------------------------------------------------------------\u001b[0m",
      "\u001b[0;31mAttributeError\u001b[0m                            Traceback (most recent call last)",
      "\u001b[0;32m<ipython-input-54-a3f93275a9cc>\u001b[0m in \u001b[0;36m<module>\u001b[0;34m\u001b[0m\n\u001b[1;32m     10\u001b[0m \u001b[0;32mwhile\u001b[0m \u001b[0mnext_url\u001b[0m\u001b[0;34m:\u001b[0m\u001b[0;34m\u001b[0m\u001b[0;34m\u001b[0m\u001b[0m\n\u001b[1;32m     11\u001b[0m     \u001b[0mhtml\u001b[0m \u001b[0;34m=\u001b[0m \u001b[0mmake_html\u001b[0m\u001b[0;34m(\u001b[0m\u001b[0mnext_url\u001b[0m\u001b[0;34m)\u001b[0m\u001b[0;34m\u001b[0m\u001b[0;34m\u001b[0m\u001b[0m\n\u001b[0;32m---> 12\u001b[0;31m     \u001b[0mall_products\u001b[0m\u001b[0;34m.\u001b[0m\u001b[0mextend\u001b[0m\u001b[0;34m(\u001b[0m\u001b[0mall_product_page\u001b[0m\u001b[0;34m(\u001b[0m\u001b[0mhtml\u001b[0m\u001b[0;34m)\u001b[0m\u001b[0;34m)\u001b[0m\u001b[0;34m\u001b[0m\u001b[0;34m\u001b[0m\u001b[0m\n\u001b[0m\u001b[1;32m     13\u001b[0m     \u001b[0mnext_url\u001b[0m \u001b[0;34m=\u001b[0m \u001b[0mnext_page_url\u001b[0m\u001b[0;34m(\u001b[0m\u001b[0mhtml\u001b[0m\u001b[0;34m)\u001b[0m\u001b[0;34m\u001b[0m\u001b[0;34m\u001b[0m\u001b[0m\n\u001b[1;32m     14\u001b[0m     \u001b[0mprint\u001b[0m\u001b[0;34m(\u001b[0m\u001b[0mnext_url\u001b[0m\u001b[0;34m)\u001b[0m\u001b[0;34m\u001b[0m\u001b[0;34m\u001b[0m\u001b[0m\n",
      "\u001b[0;32m<ipython-input-29-f14aba9f4dd6>\u001b[0m in \u001b[0;36mall_product_page\u001b[0;34m(html)\u001b[0m\n\u001b[1;32m      7\u001b[0m     \u001b[0;32mfor\u001b[0m \u001b[0mprod\u001b[0m \u001b[0;32min\u001b[0m \u001b[0mproducts\u001b[0m\u001b[0;34m:\u001b[0m\u001b[0;34m\u001b[0m\u001b[0;34m\u001b[0m\u001b[0m\n\u001b[1;32m      8\u001b[0m         \u001b[0mname\u001b[0m \u001b[0;34m=\u001b[0m \u001b[0mprod\u001b[0m\u001b[0;34m.\u001b[0m\u001b[0mfind\u001b[0m\u001b[0;34m(\u001b[0m\u001b[0;34m'h2'\u001b[0m\u001b[0;34m,\u001b[0m \u001b[0;34m{\u001b[0m\u001b[0;34m'class'\u001b[0m\u001b[0;34m:\u001b[0m \u001b[0;34m'a-size-mini'\u001b[0m\u001b[0;34m}\u001b[0m\u001b[0;34m)\u001b[0m\u001b[0;34m.\u001b[0m\u001b[0mtext\u001b[0m\u001b[0;34m.\u001b[0m\u001b[0mstrip\u001b[0m\u001b[0;34m(\u001b[0m\u001b[0;34m)\u001b[0m\u001b[0;34m\u001b[0m\u001b[0;34m\u001b[0m\u001b[0m\n\u001b[0;32m----> 9\u001b[0;31m         \u001b[0moriginal_price\u001b[0m \u001b[0;34m=\u001b[0m \u001b[0mprod\u001b[0m\u001b[0;34m.\u001b[0m\u001b[0mfind\u001b[0m\u001b[0;34m(\u001b[0m\u001b[0;34m'span'\u001b[0m\u001b[0;34m,\u001b[0m \u001b[0;34m{\u001b[0m\u001b[0;34m'class'\u001b[0m\u001b[0;34m:\u001b[0m \u001b[0;34m'a-price'\u001b[0m\u001b[0;34m}\u001b[0m\u001b[0;34m)\u001b[0m\u001b[0;34m.\u001b[0m\u001b[0mtext\u001b[0m\u001b[0;34m.\u001b[0m\u001b[0mstrip\u001b[0m\u001b[0;34m(\u001b[0m\u001b[0;34m)\u001b[0m\u001b[0;34m\u001b[0m\u001b[0;34m\u001b[0m\u001b[0m\n\u001b[0m\u001b[1;32m     10\u001b[0m         \u001b[0mdiscounted_price\u001b[0m \u001b[0;34m=\u001b[0m \u001b[0mprod\u001b[0m\u001b[0;34m.\u001b[0m\u001b[0mfind\u001b[0m\u001b[0;34m(\u001b[0m\u001b[0;34m'span'\u001b[0m\u001b[0;34m,\u001b[0m \u001b[0;34m{\u001b[0m\u001b[0;34m'class'\u001b[0m\u001b[0;34m:\u001b[0m \u001b[0;34m'a-price-whole'\u001b[0m\u001b[0;34m}\u001b[0m\u001b[0;34m)\u001b[0m\u001b[0;34m.\u001b[0m\u001b[0mtext\u001b[0m\u001b[0;34m.\u001b[0m\u001b[0mstrip\u001b[0m\u001b[0;34m(\u001b[0m\u001b[0;34m)\u001b[0m\u001b[0;34m\u001b[0m\u001b[0;34m\u001b[0m\u001b[0m\n\u001b[1;32m     11\u001b[0m         \u001b[0mproduct_url\u001b[0m \u001b[0;34m=\u001b[0m \u001b[0;34m\"https://amazon.in/%s\"\u001b[0m \u001b[0;34m%\u001b[0m \u001b[0mprod\u001b[0m\u001b[0;34m.\u001b[0m\u001b[0mfind\u001b[0m\u001b[0;34m(\u001b[0m\u001b[0;34m'h2'\u001b[0m\u001b[0;34m,\u001b[0m \u001b[0;34m{\u001b[0m\u001b[0;34m'class'\u001b[0m\u001b[0;34m:\u001b[0m \u001b[0;34m'a-size-mini'\u001b[0m\u001b[0;34m}\u001b[0m\u001b[0;34m)\u001b[0m\u001b[0;34m.\u001b[0m\u001b[0mfind\u001b[0m\u001b[0;34m(\u001b[0m\u001b[0;34m'a'\u001b[0m\u001b[0;34m)\u001b[0m\u001b[0;34m.\u001b[0m\u001b[0mget\u001b[0m\u001b[0;34m(\u001b[0m\u001b[0;34m'href'\u001b[0m\u001b[0;34m)\u001b[0m\u001b[0;34m\u001b[0m\u001b[0;34m\u001b[0m\u001b[0m\n",
      "\u001b[0;31mAttributeError\u001b[0m: 'NoneType' object has no attribute 'text'"
     ]
    }
   ],
   "source": [
    "all_products = []\n",
    "next_url = \"\"\n",
    "\n",
    "if next_url == \"\":\n",
    "    html = make_html(url)\n",
    "    all_products.extend(all_product_page(html))\n",
    "    next_url = next_page_url(html)\n",
    "    print(next_url)\n",
    "\n",
    "while next_url:\n",
    "    html = make_html(next_url)\n",
    "    all_products.extend(all_product_page(html))\n",
    "    next_url = next_page_url(html)\n",
    "    print(next_url)"
   ]
  },
  {
   "cell_type": "code",
   "execution_count": 55,
   "metadata": {},
   "outputs": [
    {
     "data": {
      "text/plain": [
       "144"
      ]
     },
     "execution_count": 55,
     "metadata": {},
     "output_type": "execute_result"
    }
   ],
   "source": [
    "len(all_products)"
   ]
  },
  {
   "cell_type": "code",
   "execution_count": null,
   "metadata": {},
   "outputs": [],
   "source": []
  }
 ],
 "metadata": {
  "kernelspec": {
   "display_name": "Python 3",
   "language": "python",
   "name": "python3"
  },
  "language_info": {
   "codemirror_mode": {
    "name": "ipython",
    "version": 3
   },
   "file_extension": ".py",
   "mimetype": "text/x-python",
   "name": "python",
   "nbconvert_exporter": "python",
   "pygments_lexer": "ipython3",
   "version": "3.6.9"
  }
 },
 "nbformat": 4,
 "nbformat_minor": 4
}
